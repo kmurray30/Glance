{
 "cells": [
  {
   "cell_type": "code",
   "execution_count": 1,
   "metadata": {},
   "outputs": [],
   "source": [
    "from llama_index.core.agent import ReActAgent\n",
    "from llama_index.llms.openai import OpenAI\n",
    "from llama_index.core.tools import FunctionTool"
   ]
  },
  {
   "cell_type": "code",
   "execution_count": 2,
   "metadata": {},
   "outputs": [],
   "source": [
    "def multiply(a: int, b: int) -> int:\n",
    "    \"\"\"Multiply two integers and returns the result integer\"\"\"\n",
    "    return a * b\n",
    "\n",
    "\n",
    "multiply_tool = FunctionTool.from_defaults(fn=multiply)\n",
    "\n",
    "def add(a: int, b: int) -> int:\n",
    "    \"\"\"Add two integers and returns the result integer\"\"\"\n",
    "    return a + b\n",
    "\n",
    "\n",
    "add_tool = FunctionTool.from_defaults(fn=add)"
   ]
  },
  {
   "cell_type": "code",
   "execution_count": 3,
   "metadata": {},
   "outputs": [],
   "source": [
    "def square(a: int) -> int:\n",
    "    \"\"\"Multiply a by itself and returns the result integer\"\"\"\n",
    "    return a*a\n",
    "\n",
    "square_tool = FunctionTool.from_defaults(fn=square)"
   ]
  },
  {
   "cell_type": "code",
   "execution_count": 4,
   "metadata": {},
   "outputs": [],
   "source": [
    "# llm = OpenAI(model=\"gpt-3.5-turbo\")\n",
    "llm = OpenAI(model=\"gpt-4\")\n",
    "agent = ReActAgent.from_tools([multiply_tool, add_tool, square_tool], llm=llm, verbose=True)"
   ]
  },
  {
   "cell_type": "code",
   "execution_count": 5,
   "metadata": {},
   "outputs": [
    {
     "name": "stdout",
     "output_type": "stream",
     "text": [
      "\u001b[1;3;38;5;200mThought: I need to follow the order of operations, which is parentheses, exponents, multiplication and division (from left to right), addition and subtraction (from left to right). This is often abbreviated as PEMDAS. So, I need to perform the multiplication operation first.\n",
      "Action: multiply\n",
      "Action Input: {'a': 2, 'b': 4}\n",
      "\u001b[0m\u001b[1;3;34mObservation: 8\n",
      "\u001b[0m\u001b[1;3;38;5;200mThought: Now that I have the result of the multiplication operation, I need to add this result to 20.\n",
      "Action: add\n",
      "Action Input: {'a': 20, 'b': 8}\n",
      "\u001b[0m\u001b[1;3;34mObservation: 28\n",
      "\u001b[0m The result of the operation 20+2*4 is 28."
     ]
    }
   ],
   "source": [
    "response_gen = agent.stream_chat(\"What is 20+2*4? Calculate step by step\")\n",
    "response_gen.print_response_stream()"
   ]
  },
  {
   "cell_type": "code",
   "execution_count": 6,
   "metadata": {},
   "outputs": [
    {
     "name": "stdout",
     "output_type": "stream",
     "text": [
      "\u001b[1;3;38;5;200mThought: I need to use the square tool to calculate the square of 20.\n",
      "Action: square\n",
      "Action Input: {'a': 20}\n",
      "\u001b[0m\u001b[1;3;34mObservation: 400\n",
      "\u001b[0m The square of 20 is 400."
     ]
    }
   ],
   "source": [
    "response_gen_2 = agent.stream_chat(\"What is the square of 20? Calculate step by step\")\n",
    "response_gen_2.print_response_stream()"
   ]
  },
  {
   "cell_type": "code",
   "execution_count": 8,
   "metadata": {},
   "outputs": [
    {
     "name": "stdout",
     "output_type": "stream",
     "text": [
      "\u001b[1;3;38;5;200mThought: I need to break down the problem into smaller steps. First, I will square 12, then add 14 to the result, and finally square the sum.\n",
      "Action: square\n",
      "Action Input: {'a': 12}\n",
      "\u001b[0m\u001b[1;3;34mObservation: 144\n",
      "\u001b[0m\u001b[1;3;38;5;200mThought: Now that I have the square of 12, I need to add 14 to it.\n",
      "Action: add\n",
      "Action Input: {'a': 144, 'b': 14}\n",
      "\u001b[0m\u001b[1;3;34mObservation: 158\n",
      "\u001b[0m\u001b[1;3;38;5;200mThought: Now that I have the sum of 144 and 14, I need to square this result.\n",
      "Action: square\n",
      "Action Input: {'a': 158}\n",
      "\u001b[0m\u001b[1;3;34mObservation: 24964\n",
      "\u001b[0m"
     ]
    }
   ],
   "source": [
    "response_gen_3 = agent.stream_chat(\"What is the square of 14 + 12 squared? Calculate step by step\")"
   ]
  },
  {
   "cell_type": "code",
   "execution_count": 9,
   "metadata": {},
   "outputs": [
    {
     "name": "stdout",
     "output_type": "stream",
     "text": [
      " The square of 14 + 12 squared is 24964."
     ]
    }
   ],
   "source": [
    "response_gen_3.print_response_stream()"
   ]
  },
  {
   "cell_type": "code",
   "execution_count": 10,
   "metadata": {},
   "outputs": [
    {
     "name": "stdout",
     "output_type": "stream",
     "text": [
      "\u001b[1;3;38;5;200mThought: I need to calculate the square of 14 and the square of 12 separately. I will use the 'square' tool for this.\n",
      "Action: square\n",
      "Action Input: {'a': 14}\n",
      "\u001b[0m\u001b[1;3;34mObservation: 196\n",
      "\u001b[0m\u001b[1;3;38;5;200mThought: Now that I have the square of 14, I need to calculate the square of 12.\n",
      "Action: square\n",
      "Action Input: {'a': 12}\n",
      "\u001b[0m\u001b[1;3;34mObservation: 144\n",
      "\u001b[0m\u001b[1;3;38;5;200mThought: Now that I have the square of 12, I need to add it to the square of 14 to get the final result.\n",
      "Action: add\n",
      "Action Input: {'a': 196, 'b': 144}\n",
      "\u001b[0m\u001b[1;3;34mObservation: 340\n",
      "\u001b[0m The square of 14 plus the square of 12 is 340."
     ]
    }
   ],
   "source": [
    "response_gen_4 = agent.stream_chat(\"What is the square of 14 + the square of 12? Calculate step by step\")\n",
    "response_gen_4.print_response_stream()"
   ]
  },
  {
   "cell_type": "code",
   "execution_count": null,
   "metadata": {},
   "outputs": [],
   "source": []
  }
 ],
 "metadata": {
  "kernelspec": {
   "display_name": "hw_milvus",
   "language": "python",
   "name": "python3"
  },
  "language_info": {
   "codemirror_mode": {
    "name": "ipython",
    "version": 3
   },
   "file_extension": ".py",
   "mimetype": "text/x-python",
   "name": "python",
   "nbconvert_exporter": "python",
   "pygments_lexer": "ipython3",
   "version": "3.12.1"
  }
 },
 "nbformat": 4,
 "nbformat_minor": 2
}
