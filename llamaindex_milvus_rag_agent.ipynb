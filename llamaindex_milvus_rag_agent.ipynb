{
 "cells": [
  {
   "cell_type": "code",
   "execution_count": 1,
   "metadata": {},
   "outputs": [],
   "source": [
    "# first run installations and data download\n",
    "# ! pip install -U llama-index llama-index-vector-stores-milvus pymilvus llama-index-llms-openai llama-index-readers-file\n",
    "# ! mkdir -p './data/10k/'\n",
    "# ! curl 'https://raw.githubusercontent.com/run-llama/llama_index/main/docs/examples/data/10k/uber_2021.pdf' -O 'data/10k/uber_2021.pdf'\n",
    "# ! curl 'https://raw.githubusercontent.com/run-llama/llama_index/main/docs/examples/data/10k/lyft_2021.pdf' -O 'data/10k/lyft_2021.pdf'\n",
    "# ! mv 'lyft_2021.pdf' 'uber_2021.pdf' './data/10k/'"
   ]
  },
  {
   "cell_type": "code",
   "execution_count": 1,
   "metadata": {},
   "outputs": [],
   "source": [
    "from llama_index.core import (\n",
    "    SimpleDirectoryReader,\n",
    "    VectorStoreIndex,\n",
    "    StorageContext,\n",
    "    load_index_from_storage,\n",
    ")\n",
    "from llama_index.core.tools import QueryEngineTool, ToolMetadata\n",
    "\n",
    "from pymilvus import connections\n",
    "from llama_index.vector_stores.milvus import MilvusVectorStore"
   ]
  },
  {
   "cell_type": "code",
   "execution_count": null,
   "metadata": {},
   "outputs": [],
   "source": [
    "# for use with milvus lite\n",
    "# ! pip install milvus"
   ]
  },
  {
   "cell_type": "code",
   "execution_count": 2,
   "metadata": {},
   "outputs": [],
   "source": [
    "from milvus import default_server\n",
    "default_server.start()"
   ]
  },
  {
   "cell_type": "code",
   "execution_count": 15,
   "metadata": {},
   "outputs": [],
   "source": [
    "# default_server.stop()\n",
    "# default_server.cleanup()"
   ]
  },
  {
   "cell_type": "code",
   "execution_count": 12,
   "metadata": {},
   "outputs": [],
   "source": [
    "from dotenv import load_dotenv\n",
    "load_dotenv()\n",
    "\n",
    "import os\n",
    "import openai\n",
    "openai.api_key = os.getenv(\"OPENAI_API_KEY\")"
   ]
  },
  {
   "cell_type": "code",
   "execution_count": 16,
   "metadata": {},
   "outputs": [],
   "source": [
    "try:\n",
    "    storage_context = StorageContext.from_defaults(\n",
    "        persist_dir=\"./storage/lyft\"\n",
    "    )\n",
    "    lyft_index = load_index_from_storage(storage_context)\n",
    "\n",
    "    storage_context = StorageContext.from_defaults(\n",
    "        persist_dir=\"./storage/uber\"\n",
    "    )\n",
    "    uber_index = load_index_from_storage(storage_context)\n",
    "\n",
    "    storage_context = StorageContext.from_defaults(\n",
    "        persist_dir=\"./storage/ac\"\n",
    "    )\n",
    "    ac_index = load_index_from_storage(storage_context)\n",
    "\n",
    "    index_loaded = True\n",
    "except:\n",
    "    index_loaded = False"
   ]
  },
  {
   "cell_type": "code",
   "execution_count": 17,
   "metadata": {},
   "outputs": [],
   "source": [
    "if not index_loaded:\n",
    "    # load data\n",
    "    lyft_docs = SimpleDirectoryReader(\n",
    "        input_files=[\"./data/10k/lyft_2021.pdf\"]\n",
    "    ).load_data()\n",
    "    uber_docs = SimpleDirectoryReader(\n",
    "        input_files=[\"./data/10k/uber_2021.pdf\"]\n",
    "    ).load_data()\n",
    "    ac_docs = SimpleDirectoryReader(\n",
    "        input_files=[\"./data/10k/AC-Unit.pdf\"]\n",
    "    ).load_data()\n",
    "\n",
    "    # build index\n",
    "    vector_store_lyft = MilvusVectorStore(host=\"localhost\", port=default_server.listen_port, dim=1536, collection_name=\"lyft\", overwrite=True)\n",
    "    vector_store_uber = MilvusVectorStore(host=\"localhost\", port=default_server.listen_port, dim=1536, collection_name=\"uber\", overwrite=True)\n",
    "    vector_store_ac = MilvusVectorStore(host=\"localhost\", port=default_server.listen_port, dim=1536, collection_name=\"ac\", overwrite=True)\n",
    "    storage_context_lyft = StorageContext.from_defaults(vector_store=vector_store_lyft)\n",
    "    storage_context_uber = StorageContext.from_defaults(vector_store=vector_store_uber)\n",
    "    storage_context_ac = StorageContext.from_defaults(vector_store=vector_store_ac)\n",
    "    lyft_index = VectorStoreIndex.from_documents(lyft_docs, storage_context=storage_context_lyft)\n",
    "    uber_index = VectorStoreIndex.from_documents(uber_docs, storage_context=storage_context_uber)\n",
    "    ac_index = VectorStoreIndex.from_documents(ac_docs, storage_context=storage_context_ac)\n",
    "\n",
    "    # persist index\n",
    "    lyft_index.storage_context.persist(persist_dir=\"./storage/lyft\")\n",
    "    uber_index.storage_context.persist(persist_dir=\"./storage/uber\")\n",
    "    ac_index.storage_context.persist(persist_dir=\"./storage/ac\")"
   ]
  },
  {
   "cell_type": "code",
   "execution_count": 18,
   "metadata": {},
   "outputs": [],
   "source": [
    "lyft_engine = lyft_index.as_query_engine(similarity_top_k=3)\n",
    "uber_engine = uber_index.as_query_engine(similarity_top_k=3)\n",
    "ac_engine = ac_index.as_query_engine(similarity_top_k=3)"
   ]
  },
  {
   "cell_type": "code",
   "execution_count": 20,
   "metadata": {},
   "outputs": [],
   "source": [
    "query_engine_tools = [\n",
    "    QueryEngineTool(\n",
    "        query_engine=lyft_engine,\n",
    "        metadata=ToolMetadata(\n",
    "            name=\"lyft_10k\",\n",
    "            description=(\n",
    "                \"Provides information about Lyft financials for year 2021. \"\n",
    "                \"Use a detailed plain text question as input to the tool.\"\n",
    "            ),\n",
    "        ),\n",
    "    ),\n",
    "    QueryEngineTool(\n",
    "        query_engine=uber_engine,\n",
    "        metadata=ToolMetadata(\n",
    "            name=\"uber_10k\",\n",
    "            description=(\n",
    "                \"Provides information about Uber financials for year 2021. \"\n",
    "                \"Use a detailed plain text question as input to the tool.\"\n",
    "            ),\n",
    "        ),\n",
    "    ),\n",
    "    QueryEngineTool(\n",
    "        query_engine=ac_engine,\n",
    "        metadata=ToolMetadata(\n",
    "            name=\"AC_manual\",\n",
    "            description=(\n",
    "                \"Provides information about AC unit manual instructions. \"\n",
    "                \"Use a detailed plain text question as input to the tool.\"\n",
    "            ),\n",
    "        ),\n",
    "    ),\n",
    "]"
   ]
  },
  {
   "cell_type": "code",
   "execution_count": 21,
   "metadata": {},
   "outputs": [],
   "source": [
    "from llama_index.core.agent import ReActAgent\n",
    "from llama_index.llms.openai import OpenAI"
   ]
  },
  {
   "cell_type": "code",
   "execution_count": 22,
   "metadata": {},
   "outputs": [],
   "source": [
    "llm = OpenAI(model=\"gpt-3.5-turbo-0613\")\n",
    "\n",
    "agent = ReActAgent.from_tools(\n",
    "    query_engine_tools,\n",
    "    llm=llm,\n",
    "    verbose=True,\n",
    "    # context=context\n",
    ")"
   ]
  },
  {
   "cell_type": "code",
   "execution_count": null,
   "metadata": {},
   "outputs": [
    {
     "name": "stdout",
     "output_type": "stream",
     "text": [
      "\u001b[1;3;38;5;200mThought: I can use the AC_manual tool to find instructions on how to change the filter of an AC unit.\n",
      "Action: AC_manual\n",
      "Action Input: {'input': 'How to change the filter of an AC unit?'}\n",
      "\u001b[0m\u001b[1;3;34mObservation: To change the filter of an AC unit, you should first open the panel and then loosen the clasp of the filter. After that, remove the axile bush of the horizontal louver. Push the filter inward and then raise it to remove it.\n",
      "\u001b[0m\u001b[1;3;38;5;200mThought: I have found the instructions on how to change the filter of an AC unit.\n",
      "Answer: To change the filter of an AC unit, follow these steps:\n",
      "1. Open the panel of the AC unit.\n",
      "2. Loosen the clasp of the filter.\n",
      "3. Remove the axile bush of the horizontal louver.\n",
      "4. Push the filter inward and then raise it to remove it.\n",
      "\n",
      "Please let me know if there is anything else I can help you with.\n",
      "\u001b[0mTo change the filter of an AC unit, follow these steps:\n",
      "1. Open the panel of the AC unit.\n",
      "2. Loosen the clasp of the filter.\n",
      "3. Remove the axile bush of the horizontal louver.\n",
      "4. Push the filter inward and then raise it to remove it.\n",
      "\n",
      "Please let me know if there is anything else I can help you with.\n"
     ]
    },
    {
     "name": "stdout",
     "output_type": "stream",
     "text": [
      "2024-03-02 14:41:43.640 - [BAML_CLIENT] - WARNING: \n",
      "Event: ProcessInstructions\n",
      "-------------------\n",
      "Prompt\n",
      "Role: system\n",
      "Answer the question:\n",
      "...\n",
      "Role: assistant\n",
      "...\n",
      "Role: user\n",
      "Convert to this Output JSON Format:\n",
      "{\n",
      "  \"steps\": string[],\n",
      "  \"page\": int,\n",
      "  \"warnings\": string[]\n",
      "}\n",
      "\n",
      "Before outputting the JSON, write a paragraph explaining the most relevant information from the manual to answer the questions.\n",
      "-------------------\n",
      "Raw LLM Output (Tokens: prompt=70 output=54)\n",
      "I'm sorry, but I can't provide the help you're looking for without more information. Could you please provide more details or context? For instance, what manual are you referring to? What questions need to be answered? This information will help me assist you better.\n",
      "-------------------\n",
      "Error\n",
      "DeserializerException: Failed to Deserialize: (1 errors) (0 warnings)\n",
      "------\n",
      "Error in Instructions: Failed to parse into Instructions: 3 validation errors for Instructions\n",
      "steps\n",
      "  Field required [type=missing, input_value={}, input_type=dict]\n",
      "    For further information visit https://errors.pydantic.dev/2.6/v/missing\n",
      "page\n",
      "  Field required [type=missing, input_value={}, input_type=dict]\n",
      "    For further information visit https://errors.pydantic.dev/2.6/v/missing\n",
      "warnings\n",
      "  Field required [type=missing, input_value={}, input_type=dict]\n",
      "    For further information visit https://errors.pydantic.dev/2.6/v/missing\n",
      "------\n",
      "Raw:\n",
      "I'm sorry, but I can't provide the help you're looking for without more information. Could you please provide more details or context? For instance, what manual are you referring to? What questions need to be answered? This information will help me assist you better.\n",
      "--------------------------------------------------------------------------------\n"
     ]
    }
   ],
   "source": [
    "response = agent.chat(\"For the AC unit, how do I change the filter?\")\n",
    "print(str(response))"
   ]
  },
  {
   "cell_type": "code",
   "execution_count": 24,
   "metadata": {},
   "outputs": [
    {
     "ename": "DeserializerException",
     "evalue": "Failed to Deserialize: (1 errors) (0 warnings)\n------\nError in Instructions: Failed to parse into Instructions: 3 validation errors for Instructions\nsteps\n  Field required [type=missing, input_value={}, input_type=dict]\n    For further information visit https://errors.pydantic.dev/2.6/v/missing\npage\n  Field required [type=missing, input_value={}, input_type=dict]\n    For further information visit https://errors.pydantic.dev/2.6/v/missing\nwarnings\n  Field required [type=missing, input_value={}, input_type=dict]\n    For further information visit https://errors.pydantic.dev/2.6/v/missing\n------\nRaw:\nI'm sorry, but I can't provide the help you're looking for without more information. Could you please provide more details or context? For instance, what manual are you referring to? What questions need to be answered? This information will help me assist you better.",
     "output_type": "error",
     "traceback": [
      "\u001b[0;31m---------------------------------------------------------------------------\u001b[0m",
      "\u001b[0;31mDeserializerException\u001b[0m                     Traceback (most recent call last)",
      "Cell \u001b[0;32mIn[24], line 3\u001b[0m\n\u001b[1;32m      1\u001b[0m \u001b[38;5;28;01mfrom\u001b[39;00m \u001b[38;5;21;01mbaml_client\u001b[39;00m \u001b[38;5;28;01mimport\u001b[39;00m baml \u001b[38;5;28;01mas\u001b[39;00m b\n\u001b[0;32m----> 3\u001b[0m result \u001b[38;5;241m=\u001b[39m \u001b[38;5;28;01mawait\u001b[39;00m b\u001b[38;5;241m.\u001b[39mProcessInstructions(query\u001b[38;5;241m=\u001b[39m\u001b[38;5;124m\"\u001b[39m\u001b[38;5;124m...\u001b[39m\u001b[38;5;124m\"\u001b[39m, answer \u001b[38;5;241m=\u001b[39m\u001b[38;5;124m\"\u001b[39m\u001b[38;5;124m...\u001b[39m\u001b[38;5;124m\"\u001b[39m)\n",
      "File \u001b[0;32m~/Repos/ai_agents_cookbooks/baml_client/__do_not_import/functions/fx_processinstructions.py:62\u001b[0m, in \u001b[0;36mIBAMLProcessInstructions.__call__\u001b[0;34m(self, *args, **kwargs)\u001b[0m\n\u001b[1;32m     61\u001b[0m \u001b[38;5;28;01masync\u001b[39;00m \u001b[38;5;28;01mdef\u001b[39;00m \u001b[38;5;21m__call__\u001b[39m(\u001b[38;5;28mself\u001b[39m, \u001b[38;5;241m*\u001b[39margs, \u001b[38;5;241m*\u001b[39m\u001b[38;5;241m*\u001b[39mkwargs) \u001b[38;5;241m-\u001b[39m\u001b[38;5;241m>\u001b[39m Instructions:\n\u001b[0;32m---> 62\u001b[0m     \u001b[38;5;28;01mreturn\u001b[39;00m \u001b[38;5;28;01mawait\u001b[39;00m \u001b[38;5;28mself\u001b[39m\u001b[38;5;241m.\u001b[39mget_impl(\u001b[38;5;124m\"\u001b[39m\u001b[38;5;124mV1\u001b[39m\u001b[38;5;124m\"\u001b[39m)\u001b[38;5;241m.\u001b[39mrun(\u001b[38;5;241m*\u001b[39margs, \u001b[38;5;241m*\u001b[39m\u001b[38;5;241m*\u001b[39mkwargs)\n",
      "File \u001b[0;32m~/Repos/ai_agents_cookbooks/.venv/lib/python3.12/site-packages/baml_lib/_impl/functions.py:137\u001b[0m, in \u001b[0;36mBAMLImpl.run\u001b[0;34m(self, *args, **kwargs)\u001b[0m\n\u001b[1;32m    126\u001b[0m \u001b[38;5;28;01masync\u001b[39;00m \u001b[38;5;28;01mdef\u001b[39;00m \u001b[38;5;21mrun\u001b[39m(\u001b[38;5;28mself\u001b[39m, \u001b[38;5;241m*\u001b[39margs: Any, \u001b[38;5;241m*\u001b[39m\u001b[38;5;241m*\u001b[39mkwargs: Any) \u001b[38;5;241m-\u001b[39m\u001b[38;5;241m>\u001b[39m RET:\n\u001b[1;32m    127\u001b[0m \u001b[38;5;250m    \u001b[39m\u001b[38;5;124;03m\"\"\"\u001b[39;00m\n\u001b[1;32m    128\u001b[0m \u001b[38;5;124;03m    Runs the BAML implementation for non-streaming operations.\u001b[39;00m\n\u001b[1;32m    129\u001b[0m \n\u001b[0;32m   (...)\u001b[0m\n\u001b[1;32m    135\u001b[0m \u001b[38;5;124;03m        The result of the callable object for non-streaming operations.\u001b[39;00m\n\u001b[1;32m    136\u001b[0m \u001b[38;5;124;03m    \"\"\"\u001b[39;00m\n\u001b[0;32m--> 137\u001b[0m     \u001b[38;5;28;01mreturn\u001b[39;00m \u001b[38;5;28;01mawait\u001b[39;00m \u001b[38;5;28mself\u001b[39m\u001b[38;5;241m.\u001b[39m__cb(\u001b[38;5;241m*\u001b[39margs, \u001b[38;5;241m*\u001b[39m\u001b[38;5;241m*\u001b[39mkwargs)\n",
      "File \u001b[0;32m~/Repos/ai_agents_cookbooks/.venv/lib/python3.12/site-packages/baml_core/otel/tracer.py:148\u001b[0m, in \u001b[0;36m_trace_internal.<locals>.async_wrapper\u001b[0;34m(*args, **kwargs)\u001b[0m\n\u001b[1;32m    146\u001b[0m \u001b[38;5;28;01mif\u001b[39;00m tags:\n\u001b[1;32m    147\u001b[0m     set_tags(\u001b[38;5;241m*\u001b[39m\u001b[38;5;241m*\u001b[39mtags)\n\u001b[0;32m--> 148\u001b[0m response \u001b[38;5;241m=\u001b[39m \u001b[38;5;28;01mawait\u001b[39;00m func(\u001b[38;5;241m*\u001b[39margs, \u001b[38;5;241m*\u001b[39m\u001b[38;5;241m*\u001b[39mkwargs)\n\u001b[1;32m    149\u001b[0m ctx\u001b[38;5;241m.\u001b[39mcomplete(response)\n\u001b[1;32m    150\u001b[0m \u001b[38;5;28;01mreturn\u001b[39;00m response\n",
      "File \u001b[0;32m~/Repos/ai_agents_cookbooks/.venv/lib/python3.12/site-packages/baml_lib/_impl/functions.py:257\u001b[0m, in \u001b[0;36mBaseBAMLFunction.__register_impl_fn.<locals>.async_wrapper\u001b[0;34m(*args, **kwargs)\u001b[0m\n\u001b[1;32m    252\u001b[0m \u001b[38;5;129m@functools\u001b[39m\u001b[38;5;241m.\u001b[39mwraps(run_impl_fn)\n\u001b[1;32m    253\u001b[0m \u001b[38;5;28;01masync\u001b[39;00m \u001b[38;5;28;01mdef\u001b[39;00m \u001b[38;5;21masync_wrapper\u001b[39m(\n\u001b[1;32m    254\u001b[0m     \u001b[38;5;241m*\u001b[39margs: typing\u001b[38;5;241m.\u001b[39mAny, \u001b[38;5;241m*\u001b[39m\u001b[38;5;241m*\u001b[39mkwargs: typing\u001b[38;5;241m.\u001b[39mAny\n\u001b[1;32m    255\u001b[0m ) \u001b[38;5;241m-\u001b[39m\u001b[38;5;241m>\u001b[39m typing\u001b[38;5;241m.\u001b[39mAny:\n\u001b[1;32m    256\u001b[0m     create_event(\u001b[38;5;124m\"\u001b[39m\u001b[38;5;124mvariant\u001b[39m\u001b[38;5;124m\"\u001b[39m, {\u001b[38;5;124m\"\u001b[39m\u001b[38;5;124mname\u001b[39m\u001b[38;5;124m\"\u001b[39m: name})\n\u001b[0;32m--> 257\u001b[0m     \u001b[38;5;28;01mreturn\u001b[39;00m \u001b[38;5;28;01mawait\u001b[39;00m run_impl_fn(\u001b[38;5;241m*\u001b[39margs, \u001b[38;5;241m*\u001b[39m\u001b[38;5;241m*\u001b[39mkwargs)\n",
      "File \u001b[0;32m~/Repos/ai_agents_cookbooks/baml_client/__do_not_import/impls/fx_processinstructions_impl_v1.py:79\u001b[0m, in \u001b[0;36mV1\u001b[0;34m(query, answer)\u001b[0m\n\u001b[1;32m     77\u001b[0m \u001b[38;5;28;01masync\u001b[39;00m \u001b[38;5;28;01mdef\u001b[39;00m \u001b[38;5;21mV1\u001b[39m(\u001b[38;5;241m*\u001b[39m, query: \u001b[38;5;28mstr\u001b[39m, answer: \u001b[38;5;28mstr\u001b[39m) \u001b[38;5;241m-\u001b[39m\u001b[38;5;241m>\u001b[39m Instructions:\n\u001b[1;32m     78\u001b[0m     response \u001b[38;5;241m=\u001b[39m \u001b[38;5;28;01mawait\u001b[39;00m GPT4\u001b[38;5;241m.\u001b[39mrun_chat_template(__prompt_template, replacers\u001b[38;5;241m=\u001b[39m__input_replacers, params\u001b[38;5;241m=\u001b[39m\u001b[38;5;28mdict\u001b[39m(query\u001b[38;5;241m=\u001b[39mquery, answer\u001b[38;5;241m=\u001b[39manswer))\n\u001b[0;32m---> 79\u001b[0m     deserialized \u001b[38;5;241m=\u001b[39m \u001b[43m__deserializer\u001b[49m\u001b[38;5;241;43m.\u001b[39;49m\u001b[43mfrom_string\u001b[49m\u001b[43m(\u001b[49m\u001b[43mresponse\u001b[49m\u001b[38;5;241;43m.\u001b[39;49m\u001b[43mgenerated\u001b[49m\u001b[43m)\u001b[49m\n\u001b[1;32m     80\u001b[0m     \u001b[38;5;28;01mreturn\u001b[39;00m deserialized\n",
      "File \u001b[0;32m~/Repos/ai_agents_cookbooks/.venv/lib/python3.12/site-packages/baml_lib/_impl/deserializer/deserialzier.py:79\u001b[0m, in \u001b[0;36mDeserializer.from_string\u001b[0;34m(self, s)\u001b[0m\n\u001b[1;32m     77\u001b[0m deserializer \u001b[38;5;241m=\u001b[39m \u001b[38;5;28mself\u001b[39m\u001b[38;5;241m.\u001b[39m__from_lut(\u001b[38;5;28mself\u001b[39m\u001b[38;5;241m.\u001b[39m__target_output_type)\n\u001b[1;32m     78\u001b[0m result \u001b[38;5;241m=\u001b[39m deserializer\u001b[38;5;241m.\u001b[39mcoerce(raw, diagnostics, \u001b[38;5;28mself\u001b[39m\u001b[38;5;241m.\u001b[39m__from_lut)\n\u001b[0;32m---> 79\u001b[0m \u001b[43mdiagnostics\u001b[49m\u001b[38;5;241;43m.\u001b[39;49m\u001b[43mto_exception\u001b[49m\u001b[43m(\u001b[49m\u001b[43m)\u001b[49m\n\u001b[1;32m     80\u001b[0m \u001b[38;5;28;01mreturn\u001b[39;00m result\u001b[38;5;241m.\u001b[39mas_value\n",
      "File \u001b[0;32m~/Repos/ai_agents_cookbooks/.venv/lib/python3.12/site-packages/baml_lib/_impl/deserializer/diagnostics.py:74\u001b[0m, in \u001b[0;36mDiagnostics.to_exception\u001b[0;34m(self)\u001b[0m\n\u001b[1;32m     70\u001b[0m \u001b[38;5;250m\u001b[39m\u001b[38;5;124;03m\"\"\"\u001b[39;00m\n\u001b[1;32m     71\u001b[0m \u001b[38;5;124;03mThis method raises a DeserializerException if there are any errors in the diagnostics.\u001b[39;00m\n\u001b[1;32m     72\u001b[0m \u001b[38;5;124;03m\"\"\"\u001b[39;00m\n\u001b[1;32m     73\u001b[0m \u001b[38;5;28;01mif\u001b[39;00m \u001b[38;5;28mlen\u001b[39m(\u001b[38;5;28mself\u001b[39m\u001b[38;5;241m.\u001b[39m__errors) \u001b[38;5;241m>\u001b[39m \u001b[38;5;241m0\u001b[39m:\n\u001b[0;32m---> 74\u001b[0m     \u001b[38;5;28;01mraise\u001b[39;00m DeserializerException(\n\u001b[1;32m     75\u001b[0m         \u001b[38;5;28mself\u001b[39m\u001b[38;5;241m.\u001b[39m__errors, \u001b[38;5;28mself\u001b[39m\u001b[38;5;241m.\u001b[39m__warnings, \u001b[38;5;28mself\u001b[39m\u001b[38;5;241m.\u001b[39m__raw_string\n\u001b[1;32m     76\u001b[0m     )\n",
      "\u001b[0;31mDeserializerException\u001b[0m: Failed to Deserialize: (1 errors) (0 warnings)\n------\nError in Instructions: Failed to parse into Instructions: 3 validation errors for Instructions\nsteps\n  Field required [type=missing, input_value={}, input_type=dict]\n    For further information visit https://errors.pydantic.dev/2.6/v/missing\npage\n  Field required [type=missing, input_value={}, input_type=dict]\n    For further information visit https://errors.pydantic.dev/2.6/v/missing\nwarnings\n  Field required [type=missing, input_value={}, input_type=dict]\n    For further information visit https://errors.pydantic.dev/2.6/v/missing\n------\nRaw:\nI'm sorry, but I can't provide the help you're looking for without more information. Could you please provide more details or context? For instance, what manual are you referring to? What questions need to be answered? This information will help me assist you better."
     ]
    }
   ],
   "source": [
    "from baml_client import baml as b\n",
    "\n",
    "result = await b.ProcessInstructions(query=\"\", answer =str(response))"
   ]
  }
 ],
 "metadata": {
  "kernelspec": {
   "display_name": "hw_milvus",
   "language": "python",
   "name": "python3"
  },
  "language_info": {
   "codemirror_mode": {
    "name": "ipython",
    "version": 3
   },
   "file_extension": ".py",
   "mimetype": "text/x-python",
   "name": "python",
   "nbconvert_exporter": "python",
   "pygments_lexer": "ipython3",
   "version": "3.12.2"
  }
 },
 "nbformat": 4,
 "nbformat_minor": 2
}
